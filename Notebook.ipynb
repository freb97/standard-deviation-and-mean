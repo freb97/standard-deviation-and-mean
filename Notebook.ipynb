{
 "cells": [
  {
   "cell_type": "code",
   "execution_count": 1,
   "id": "a324ef3b-5cf7-4c74-830a-58a04b8f0116",
   "metadata": {},
   "outputs": [
    {
     "name": "stdout",
     "output_type": "stream",
     "text": [
      "Mean and standard deviation of measurements\n",
      "\n",
      "We have the following measurements: [1.24, 1.2, 1.23, 1.17, 1.15, 1.26, 1.2, 1.23, 1.16, 1.17]\n",
      "\n",
      "Mean of all measurements: 1.201\n",
      "Standard deviation of all measurements: 0.03784471194529329\n",
      "Standard deviation of the mean of all measurements: 0.011967548714010838\n"
     ]
    }
   ],
   "source": [
    "%run deviation.py"
   ]
  }
 ],
 "metadata": {
  "kernelspec": {
   "display_name": "Python 3",
   "language": "python",
   "name": "python3"
  },
  "language_info": {
   "codemirror_mode": {
    "name": "ipython",
    "version": 3
   },
   "file_extension": ".py",
   "mimetype": "text/x-python",
   "name": "python",
   "nbconvert_exporter": "python",
   "pygments_lexer": "ipython3",
   "version": "3.8.2"
  }
 },
 "nbformat": 4,
 "nbformat_minor": 5
}